{
 "cells": [
  {
   "cell_type": "code",
   "execution_count": null,
   "id": "b32ffb3b",
   "metadata": {},
   "outputs": [],
   "source": [
    "from flask import Flask, request, render_template\n",
    "import joblib\n",
    "import pandas as pd\n",
    "import numpy as np\n",
    "import os\n",
    "\n",
    "app = Flask(__name__)\n",
    "\n",
    "# Load the saved model\n",
    "model = joblib.load('car_evaluation_model.pkl')\n",
    "\n",
    "# Define the feature names\n",
    "feature_names = ['buying', 'maint', 'doors', 'persons', 'lug_boot', 'safety']\n",
    "\n",
    "# Define the mapping from encoded values to labels\n",
    "label_mapping = {\n",
    "    0: 'unacc',\n",
    "    1: 'acc',\n",
    "    2: 'good',\n",
    "    3: 'vgood'\n",
    "}\n",
    "\n",
    "@app.route('/', methods=['GET', 'POST'])\n",
    "def home():\n",
    "    if request.method == 'POST':\n",
    "        # Extract data from form\n",
    "        data = {\n",
    "            'buying': int(request.form['buying']),\n",
    "            'maint': int(request.form['maint']),\n",
    "            'doors': int(request.form['doors']),\n",
    "            'persons': int(request.form['persons']),\n",
    "            'lug_boot': int(request.form['lug_boot']),\n",
    "            'safety': int(request.form['safety'])\n",
    "        }\n",
    "\n",
    "        # Convert the data to a DataFrame with column names\n",
    "        input_data = pd.DataFrame([data], columns=feature_names)\n",
    "        \n",
    "        # Make prediction\n",
    "        prediction = model.predict(input_data)\n",
    "        \n",
    "        # Convert the prediction to a label\n",
    "        prediction_label = label_mapping.get(prediction[0], 'Unknown')\n",
    "\n",
    "        # Return the prediction in the rendered HTML\n",
    "        return render_template('index.html', prediction=prediction_label)\n",
    "\n",
    "    return render_template('index.html', prediction=None)\n",
    "\n",
    "if __name__ == \"__main__\":\n",
    "    port = int(os.environ.get(\"PORT\", 5000))\n",
    "    app.run(host='0.0.0.0', port=port)\n"
   ]
  }
 ],
 "metadata": {
  "kernelspec": {
   "display_name": "Python 3 (ipykernel)",
   "language": "python",
   "name": "python3"
  },
  "language_info": {
   "codemirror_mode": {
    "name": "ipython",
    "version": 3
   },
   "file_extension": ".py",
   "mimetype": "text/x-python",
   "name": "python",
   "nbconvert_exporter": "python",
   "pygments_lexer": "ipython3",
   "version": "3.11.5"
  }
 },
 "nbformat": 4,
 "nbformat_minor": 5
}
